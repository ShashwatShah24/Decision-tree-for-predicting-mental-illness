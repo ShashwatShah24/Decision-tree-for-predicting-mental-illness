{
 "cells": [
  {
   "cell_type": "code",
   "execution_count": 1,
   "metadata": {
    "collapsed": false
   },
   "outputs": [
   ],
   "source": [
    "import pandas as pd\n",
    "import numpy as np"
   ]
  },
  {
   "cell_type": "code",
   "execution_count": 2,
   "metadata": {
    "collapsed": false
   },
   "outputs": [
   ],
   "source": [
    "df1 = pd.read_csv('data.csv')"
   ]
  },
  {
   "cell_type": "code",
   "execution_count": 3,
   "metadata": {
    "collapsed": false
   },
   "outputs": [
   ],
   "source": [
    "df = df1.drop('Unnamed: 0',axis = 1)"
   ]
  },
  {
   "cell_type": "code",
   "execution_count": 4,
   "metadata": {
    "collapsed": false
   },
   "outputs": [
    {
     "data": {
      "text/html": [
       "<div>\n",
       "<style scoped>\n",
       "    .dataframe tbody tr th:only-of-type {\n",
       "        vertical-align: middle;\n",
       "    }\n",
       "\n",
       "    .dataframe tbody tr th {\n",
       "        vertical-align: top;\n",
       "    }\n",
       "\n",
       "    .dataframe thead th {\n",
       "        text-align: right;\n",
       "    }\n",
       "</style>\n",
       "<table border=\"1\" class=\"dataframe\">\n",
       "  <thead>\n",
       "    <tr style=\"text-align: right;\">\n",
       "      <th></th>\n",
       "      <th>Are you self-employed?</th>\n",
       "      <th>Do you have previous employers?</th>\n",
       "      <th>Would you be willing to bring up a physical health issue with a potential employer in an interview?</th>\n",
       "      <th>Would you bring up a mental health issue with a potential employer in an interview?</th>\n",
       "      <th>Do you feel that being identified as a person with a mental health issue would hurt your career?</th>\n",
       "      <th>Do you think that team members/co-workers would view you more negatively if they knew you suffered from a mental health issue?</th>\n",
       "      <th>How willing would you be to share with friends and family that you have a mental illness?</th>\n",
       "      <th>Do you have a family history of mental illness?</th>\n",
       "      <th>Have you had a mental health disorder in the past?</th>\n",
       "      <th>Do you currently have a mental health disorder?</th>\n",
       "      <th>Have you been diagnosed with a mental health condition by a medical professional?</th>\n",
       "      <th>Have you ever sought treatment for a mental health issue from a mental health professional?</th>\n",
       "      <th>If you have a mental health issue, do you feel that it interferes with your work when being treated effectively?</th>\n",
       "      <th>If you have a mental health issue, do you feel that it interferes with your work when NOT being treated effectively?</th>\n",
       "      <th>What is your age?</th>\n",
       "      <th>Which of the following best describes your work position?</th>\n",
       "      <th>Do you work remotely?</th>\n",
       "    </tr>\n",
       "  </thead>\n",
       "  <tbody>\n",
       "    <tr>\n",
       "      <th>0</th>\n",
       "      <td>0</td>\n",
       "      <td>1</td>\n",
       "      <td>Maybe</td>\n",
       "      <td>Maybe</td>\n",
       "      <td>Maybe</td>\n",
       "      <td>No, I don't think they would</td>\n",
       "      <td>Somewhat open</td>\n",
       "      <td>No</td>\n",
       "      <td>Yes</td>\n",
       "      <td>No</td>\n",
       "      <td>Yes</td>\n",
       "      <td>0</td>\n",
       "      <td>Not applicable to me</td>\n",
       "      <td>Not applicable to me</td>\n",
       "      <td>39</td>\n",
       "      <td>Back-end Developer</td>\n",
       "      <td>Sometimes</td>\n",
       "    </tr>\n",
       "    <tr>\n",
       "      <th>1</th>\n",
       "      <td>0</td>\n",
       "      <td>1</td>\n",
       "      <td>Maybe</td>\n",
       "      <td>No</td>\n",
       "      <td>No, I don't think it would</td>\n",
       "      <td>No, I don't think they would</td>\n",
       "      <td>Somewhat open</td>\n",
       "      <td>Yes</td>\n",
       "      <td>Yes</td>\n",
       "      <td>Yes</td>\n",
       "      <td>Yes</td>\n",
       "      <td>1</td>\n",
       "      <td>Rarely</td>\n",
       "      <td>Sometimes</td>\n",
       "      <td>29</td>\n",
       "      <td>Back-end Developer|Front-end Developer</td>\n",
       "      <td>Never</td>\n",
       "    </tr>\n",
       "    <tr>\n",
       "      <th>2</th>\n",
       "      <td>0</td>\n",
       "      <td>1</td>\n",
       "      <td>Yes</td>\n",
       "      <td>Yes</td>\n",
       "      <td>Maybe</td>\n",
       "      <td>Maybe</td>\n",
       "      <td>Somewhat open</td>\n",
       "      <td>No</td>\n",
       "      <td>Maybe</td>\n",
       "      <td>No</td>\n",
       "      <td>No</td>\n",
       "      <td>1</td>\n",
       "      <td>Not applicable to me</td>\n",
       "      <td>Not applicable to me</td>\n",
       "      <td>38</td>\n",
       "      <td>Back-end Developer</td>\n",
       "      <td>Always</td>\n",
       "    </tr>\n",
       "    <tr>\n",
       "      <th>3</th>\n",
       "      <td>1</td>\n",
       "      <td>1</td>\n",
       "      <td>Yes</td>\n",
       "      <td>Maybe</td>\n",
       "      <td>Yes, I think it would</td>\n",
       "      <td>Maybe</td>\n",
       "      <td>Neutral</td>\n",
       "      <td>No</td>\n",
       "      <td>Yes</td>\n",
       "      <td>Yes</td>\n",
       "      <td>Yes</td>\n",
       "      <td>1</td>\n",
       "      <td>Sometimes</td>\n",
       "      <td>Sometimes</td>\n",
       "      <td>43</td>\n",
       "      <td>Supervisor/Team Lead</td>\n",
       "      <td>Sometimes</td>\n",
       "    </tr>\n",
       "    <tr>\n",
       "      <th>4</th>\n",
       "      <td>0</td>\n",
       "      <td>1</td>\n",
       "      <td>Maybe</td>\n",
       "      <td>No</td>\n",
       "      <td>Yes, I think it would</td>\n",
       "      <td>Maybe</td>\n",
       "      <td>Somewhat open</td>\n",
       "      <td>Yes</td>\n",
       "      <td>Yes</td>\n",
       "      <td>Yes</td>\n",
       "      <td>Yes</td>\n",
       "      <td>1</td>\n",
       "      <td>Sometimes</td>\n",
       "      <td>Sometimes</td>\n",
       "      <td>43</td>\n",
       "      <td>Executive Leadership|Supervisor/Team Lead|Dev ...</td>\n",
       "      <td>Sometimes</td>\n",
       "    </tr>\n",
       "  </tbody>\n",
       "</table>\n",
       "</div>"
      ],
      "text/plain": [
       "   Are you self-employed?  Do you have previous employers?  \\\n",
       "0                       0                                1   \n",
       "1                       0                                1   \n",
       "2                       0                                1   \n",
       "3                       1                                1   \n",
       "4                       0                                1   \n",
       "\n",
       "  Would you be willing to bring up a physical health issue with a potential employer in an interview?  \\\n",
       "0                                              Maybe                                                    \n",
       "1                                              Maybe                                                    \n",
       "2                                                Yes                                                    \n",
       "3                                                Yes                                                    \n",
       "4                                              Maybe                                                    \n",
       "\n",
       "  Would you bring up a mental health issue with a potential employer in an interview?  \\\n",
       "0                                              Maybe                                    \n",
       "1                                                 No                                    \n",
       "2                                                Yes                                    \n",
       "3                                              Maybe                                    \n",
       "4                                                 No                                    \n",
       "\n",
       "  Do you feel that being identified as a person with a mental health issue would hurt your career?  \\\n",
       "0                                              Maybe                                                 \n",
       "1                         No, I don't think it would                                                 \n",
       "2                                              Maybe                                                 \n",
       "3                              Yes, I think it would                                                 \n",
       "4                              Yes, I think it would                                                 \n",
       "\n",
       "  Do you think that team members/co-workers would view you more negatively if they knew you suffered from a mental health issue?  \\\n",
       "0                       No, I don't think they would                                                                               \n",
       "1                       No, I don't think they would                                                                               \n",
       "2                                              Maybe                                                                               \n",
       "3                                              Maybe                                                                               \n",
       "4                                              Maybe                                                                               \n",
       "\n",
       "  How willing would you be to share with friends and family that you have a mental illness?  \\\n",
       "0                                      Somewhat open                                          \n",
       "1                                      Somewhat open                                          \n",
       "2                                      Somewhat open                                          \n",
       "3                                            Neutral                                          \n",
       "4                                      Somewhat open                                          \n",
       "\n",
       "  Do you have a family history of mental illness?  \\\n",
       "0                                              No   \n",
       "1                                             Yes   \n",
       "2                                              No   \n",
       "3                                              No   \n",
       "4                                             Yes   \n",
       "\n",
       "  Have you had a mental health disorder in the past?  \\\n",
       "0                                                Yes   \n",
       "1                                                Yes   \n",
       "2                                              Maybe   \n",
       "3                                                Yes   \n",
       "4                                                Yes   \n",
       "\n",
       "  Do you currently have a mental health disorder?  \\\n",
       "0                                              No   \n",
       "1                                             Yes   \n",
       "2                                              No   \n",
       "3                                             Yes   \n",
       "4                                             Yes   \n",
       "\n",
       "  Have you been diagnosed with a mental health condition by a medical professional?  \\\n",
       "0                                                Yes                                  \n",
       "1                                                Yes                                  \n",
       "2                                                 No                                  \n",
       "3                                                Yes                                  \n",
       "4                                                Yes                                  \n",
       "\n",
       "   Have you ever sought treatment for a mental health issue from a mental health professional?  \\\n",
       "0                                                  0                                             \n",
       "1                                                  1                                             \n",
       "2                                                  1                                             \n",
       "3                                                  1                                             \n",
       "4                                                  1                                             \n",
       "\n",
       "  If you have a mental health issue, do you feel that it interferes with your work when being treated effectively?  \\\n",
       "0                               Not applicable to me                                                                 \n",
       "1                                             Rarely                                                                 \n",
       "2                               Not applicable to me                                                                 \n",
       "3                                          Sometimes                                                                 \n",
       "4                                          Sometimes                                                                 \n",
       "\n",
       "  If you have a mental health issue, do you feel that it interferes with your work when NOT being treated effectively?  \\\n",
       "0                               Not applicable to me                                                                     \n",
       "1                                          Sometimes                                                                     \n",
       "2                               Not applicable to me                                                                     \n",
       "3                                          Sometimes                                                                     \n",
       "4                                          Sometimes                                                                     \n",
       "\n",
       "   What is your age?  \\\n",
       "0                 39   \n",
       "1                 29   \n",
       "2                 38   \n",
       "3                 43   \n",
       "4                 43   \n",
       "\n",
       "  Which of the following best describes your work position?  \\\n",
       "0                                 Back-end Developer          \n",
       "1             Back-end Developer|Front-end Developer          \n",
       "2                                 Back-end Developer          \n",
       "3                               Supervisor/Team Lead          \n",
       "4  Executive Leadership|Supervisor/Team Lead|Dev ...          \n",
       "\n",
       "  Do you work remotely?  \n",
       "0             Sometimes  \n",
       "1                 Never  \n",
       "2                Always  \n",
       "3             Sometimes  \n",
       "4             Sometimes  "
      ]
     },
     "execution_count": 4,
     "metadata": {
     },
     "output_type": "execute_result"
    }
   ],
   "source": [
    "df.head()"
   ]
  },
  {
   "cell_type": "code",
   "execution_count": 5,
   "metadata": {
    "collapsed": false
   },
   "outputs": [
    {
     "data": {
      "text/plain": [
       "Index(['Are you self-employed?', 'Do you have previous employers?',\n",
       "       'Would you be willing to bring up a physical health issue with a potential employer in an interview?',\n",
       "       'Would you bring up a mental health issue with a potential employer in an interview?',\n",
       "       'Do you feel that being identified as a person with a mental health issue would hurt your career?',\n",
       "       'Do you think that team members/co-workers would view you more negatively if they knew you suffered from a mental health issue?',\n",
       "       'How willing would you be to share with friends and family that you have a mental illness?',\n",
       "       'Do you have a family history of mental illness?',\n",
       "       'Have you had a mental health disorder in the past?',\n",
       "       'Do you currently have a mental health disorder?',\n",
       "       'Have you been diagnosed with a mental health condition by a medical professional?',\n",
       "       'Have you ever sought treatment for a mental health issue from a mental health professional?',\n",
       "       'If you have a mental health issue, do you feel that it interferes with your work when being treated effectively?',\n",
       "       'If you have a mental health issue, do you feel that it interferes with your work when NOT being treated effectively?',\n",
       "       'What is your age?',\n",
       "       'Which of the following best describes your work position?',\n",
       "       'Do you work remotely?'],\n",
       "      dtype='object')"
      ]
     },
     "execution_count": 5,
     "metadata": {
     },
     "output_type": "execute_result"
    }
   ],
   "source": [
    "df.columns"
   ]
  },
  {
   "cell_type": "code",
   "execution_count": 6,
   "metadata": {
    "collapsed": false
   },
   "outputs": [
   ],
   "source": [
    "data2=df[['Do you currently have a mental health disorder?',\n",
    "       'Have you been diagnosed with a mental health condition by a medical professional?',\n",
    "       'Have you ever sought treatment for a mental health issue from a mental health professional?',\n",
    "       'If you have a mental health issue, do you feel that it interferes with your work when being treated effectively?',\n",
    "       'If you have a mental health issue, do you feel that it interferes with your work when NOT being treated effectively?',\n",
    "       'What is your age?',\n",
    "       'Which of the following best describes your work position?',\n",
    "       'Do you work remotely?']]"
   ]
  },
  {
   "cell_type": "code",
   "execution_count": 7,
   "metadata": {
    "collapsed": false
   },
   "outputs": [
    {
     "name": "stderr",
     "output_type": "stream",
     "text": [
      "/usr/local/lib/python3.6/dist-packages/ipykernel/__main__.py:8: SettingWithCopyWarning: \n",
      "A value is trying to be set on a copy of a slice from a DataFrame.\n",
      "Try using .loc[row_indexer,col_indexer] = value instead\n",
      "\n",
      "See the caveats in the documentation: https://pandas.pydata.org/pandas-docs/stable/user_guide/indexing.html#returning-a-view-versus-a-copy\n"
     ]
    },
    {
     "data": {
      "text/plain": [
       " 0    756\n",
       " 5    343\n",
       "-5    333\n",
       "Name: Do you work remotely?, dtype: int64"
      ]
     },
     "execution_count": 7,
     "metadata": {
     },
     "output_type": "execute_result"
    }
   ],
   "source": [
    "df['Do you work remotely?'].value_counts()\n",
    "\n",
    "d = []\n",
    "for row in data2['Do you work remotely?']:\n",
    "        if (row =='Sometimes'):    d.append(0)\n",
    "        elif (row =='Always'):    d.append(5)\n",
    "        elif (row =='Never'):    d.append(-5)\n",
    "data2['Do you work remotely?'] = d\n",
    "data2['Do you work remotely?'].value_counts()"
   ]
  },
  {
   "cell_type": "code",
   "execution_count": 8,
   "metadata": {
    "collapsed": false
   },
   "outputs": [
    {
     "data": {
      "text/plain": [
       "Back-end Developer                                                            262\n",
       "Front-end Developer                                                           125\n",
       "Other                                                                         112\n",
       "Supervisor/Team Lead                                                           68\n",
       "Back-end Developer|Front-end Developer                                         61\n",
       "                                                                             ... \n",
       "Designer|Front-end Developer|Back-end Developer|Sales|Supervisor/Team Lead      1\n",
       "Other|Dev Evangelist/Advocate|Back-end Developer|Front-end Developer            1\n",
       "Executive Leadership|Dev Evangelist/Advocate                                    1\n",
       "Support|Back-end Developer|Front-end Developer|Designer                         1\n",
       "Support|HR|Supervisor/Team Lead|Executive Leadership                            1\n",
       "Name: Which of the following best describes your work position?, Length: 264, dtype: int64"
      ]
     },
     "execution_count": 8,
     "metadata": {
     },
     "output_type": "execute_result"
    }
   ],
   "source": [
    "df['Which of the following best describes your work position?'].value_counts()"
   ]
  },
  {
   "cell_type": "code",
   "execution_count": 9,
   "metadata": {
    "collapsed": false
   },
   "outputs": [
    {
     "data": {
      "text/plain": [
       "30    94\n",
       "31    82\n",
       "29    79\n",
       "28    74\n",
       "35    74\n",
       "32    72\n",
       "33    69\n",
       "34    69\n",
       "26    64\n",
       "27    63\n",
       "37    59\n",
       "39    55\n",
       "38    54\n",
       "36    50\n",
       "25    44\n",
       "24    42\n",
       "40    36\n",
       "22    32\n",
       "44    31\n",
       "43    30\n",
       "42    29\n",
       "45    27\n",
       "23    24\n",
       "41    24\n",
       "46    22\n",
       "21    15\n",
       "47    14\n",
       "49    13\n",
       "55    12\n",
       "50     9\n",
       "48     9\n",
       "51     7\n",
       "52     7\n",
       "54     7\n",
       "20     6\n",
       "56     5\n",
       "63     4\n",
       "19     4\n",
       "57     4\n",
       "53     3\n",
       "59     2\n",
       "61     2\n",
       "17     1\n",
       "15     1\n",
       "99     1\n",
       "74     1\n",
       "58     1\n",
       "62     1\n",
       "65     1\n",
       "66     1\n",
       "70     1\n",
       "3      1\n",
       "Name: What is your age?, dtype: int64"
      ]
     },
     "execution_count": 9,
     "metadata": {
     },
     "output_type": "execute_result"
    }
   ],
   "source": [
    "df['What is your age?'].value_counts()"
   ]
  },
  {
   "cell_type": "code",
   "execution_count": 10,
   "metadata": {
    "collapsed": false
   },
   "outputs": [
    {
     "name": "stderr",
     "output_type": "stream",
     "text": [
      "/usr/local/lib/python3.6/dist-packages/ipykernel/__main__.py:9: SettingWithCopyWarning: \n",
      "A value is trying to be set on a copy of a slice from a DataFrame.\n",
      "Try using .loc[row_indexer,col_indexer] = value instead\n",
      "\n",
      "See the caveats in the documentation: https://pandas.pydata.org/pandas-docs/stable/user_guide/indexing.html#returning-a-view-versus-a-copy\n"
     ]
    },
    {
     "data": {
      "text/plain": [
       " 5    538\n",
       "-5    467\n",
       " 3    363\n",
       "-1     52\n",
       "-3     12\n",
       "Name: If you have a mental health issue, do you feel that it interferes with your work when NOT being treated effectively?, dtype: int64"
      ]
     },
     "execution_count": 10,
     "metadata": {
     },
     "output_type": "execute_result"
    }
   ],
   "source": [
    "df['If you have a mental health issue, do you feel that it interferes with your work when NOT being treated effectively?'].value_counts()\n",
    "d = []\n",
    "for row in data2['If you have a mental health issue, do you feel that it interferes with your work when NOT being treated effectively?']:\n",
    "        if (row =='Often'):    d.append(5)\n",
    "        elif (row =='Sometimes'):    d.append(3)\n",
    "        elif (row =='Rarely'):    d.append(-1)\n",
    "        elif (row =='Never'):    d.append(-3)\n",
    "        elif (row =='Not applicable to me'):    d.append(-5)\n",
    "data2['If you have a mental health issue, do you feel that it interferes with your work when NOT being treated effectively?'] = d\n",
    "data2['If you have a mental health issue, do you feel that it interferes with your work when NOT being treated effectively?'].value_counts()"
   ]
  },
  {
   "cell_type": "code",
   "execution_count": 11,
   "metadata": {
    "collapsed": false
   },
   "outputs": [
    {
     "name": "stderr",
     "output_type": "stream",
     "text": [
      "/usr/local/lib/python3.6/dist-packages/ipykernel/__main__.py:9: SettingWithCopyWarning: \n",
      "A value is trying to be set on a copy of a slice from a DataFrame.\n",
      "Try using .loc[row_indexer,col_indexer] = value instead\n",
      "\n",
      "See the caveats in the documentation: https://pandas.pydata.org/pandas-docs/stable/user_guide/indexing.html#returning-a-view-versus-a-copy\n"
     ]
    },
    {
     "data": {
      "text/plain": [
       "-5    556\n",
       " 3    369\n",
       "-1    322\n",
       "-3    120\n",
       " 5     65\n",
       "Name: If you have a mental health issue, do you feel that it interferes with your work when being treated effectively?, dtype: int64"
      ]
     },
     "execution_count": 11,
     "metadata": {
     },
     "output_type": "execute_result"
    }
   ],
   "source": [
    "df['If you have a mental health issue, do you feel that it interferes with your work when being treated effectively?'].value_counts()\n",
    "d = []\n",
    "for row in data2['If you have a mental health issue, do you feel that it interferes with your work when being treated effectively?']:\n",
    "        if (row =='Often'):    d.append(5)\n",
    "        elif (row =='Sometimes'):    d.append(3)\n",
    "        elif (row =='Rarely'):    d.append(-1)\n",
    "        elif (row =='Never'):    d.append(-3)\n",
    "        elif (row =='Not applicable to me'):    d.append(-5)\n",
    "data2['If you have a mental health issue, do you feel that it interferes with your work when being treated effectively?'] = d\n",
    "data2['If you have a mental health issue, do you feel that it interferes with your work when being treated effectively?'].value_counts()"
   ]
  },
  {
   "cell_type": "code",
   "execution_count": 12,
   "metadata": {
    "collapsed": false
   },
   "outputs": [
    {
     "name": "stderr",
     "output_type": "stream",
     "text": [
      "/usr/local/lib/python3.6/dist-packages/ipykernel/__main__.py:6: SettingWithCopyWarning: \n",
      "A value is trying to be set on a copy of a slice from a DataFrame.\n",
      "Try using .loc[row_indexer,col_indexer] = value instead\n",
      "\n",
      "See the caveats in the documentation: https://pandas.pydata.org/pandas-docs/stable/user_guide/indexing.html#returning-a-view-versus-a-copy\n"
     ]
    },
    {
     "data": {
      "text/plain": [
       " 5    839\n",
       "-5    593\n",
       "Name: Have you ever sought treatment for a mental health issue from a mental health professional?, dtype: int64"
      ]
     },
     "execution_count": 12,
     "metadata": {
     },
     "output_type": "execute_result"
    }
   ],
   "source": [
    "df['Have you ever sought treatment for a mental health issue from a mental health professional?'].value_counts()\n",
    "d = []\n",
    "for row in data2['Have you ever sought treatment for a mental health issue from a mental health professional?']:\n",
    "        if (row ==1):    d.append(5)\n",
    "        elif (row ==0):  d.append(-5)\n",
    "data2['Have you ever sought treatment for a mental health issue from a mental health professional?'] = d\n",
    "data2['Have you ever sought treatment for a mental health issue from a mental health professional?'].value_counts()"
   ]
  },
  {
   "cell_type": "code",
   "execution_count": 13,
   "metadata": {
    "collapsed": false
   },
   "outputs": [
    {
     "name": "stderr",
     "output_type": "stream",
     "text": [
      "/usr/local/lib/python3.6/dist-packages/ipykernel/__main__.py:6: SettingWithCopyWarning: \n",
      "A value is trying to be set on a copy of a slice from a DataFrame.\n",
      "Try using .loc[row_indexer,col_indexer] = value instead\n",
      "\n",
      "See the caveats in the documentation: https://pandas.pydata.org/pandas-docs/stable/user_guide/indexing.html#returning-a-view-versus-a-copy\n"
     ]
    },
    {
     "data": {
      "text/plain": [
       " 5    716\n",
       "-5    716\n",
       "Name: Have you been diagnosed with a mental health condition by a medical professional?, dtype: int64"
      ]
     },
     "execution_count": 13,
     "metadata": {
     },
     "output_type": "execute_result"
    }
   ],
   "source": [
    "df['Have you been diagnosed with a mental health condition by a medical professional?'].value_counts()\n",
    "d = []\n",
    "for row in data2['Have you been diagnosed with a mental health condition by a medical professional?']:\n",
    "        if (row =='Yes'):    d.append(5)\n",
    "        elif (row =='No'):  d.append(-5)\n",
    "data2['Have you been diagnosed with a mental health condition by a medical professional?'] = d\n",
    "data2['Have you been diagnosed with a mental health condition by a medical professional?'].value_counts()"
   ]
  },
  {
   "cell_type": "code",
   "execution_count": 14,
   "metadata": {
    "collapsed": false
   },
   "outputs": [
    {
     "name": "stderr",
     "output_type": "stream",
     "text": [
      "/usr/local/lib/python3.6/dist-packages/ipykernel/__main__.py:7: SettingWithCopyWarning: \n",
      "A value is trying to be set on a copy of a slice from a DataFrame.\n",
      "Try using .loc[row_indexer,col_indexer] = value instead\n",
      "\n",
      "See the caveats in the documentation: https://pandas.pydata.org/pandas-docs/stable/user_guide/indexing.html#returning-a-view-versus-a-copy\n"
     ]
    },
    {
     "data": {
      "text/plain": [
       " 5    575\n",
       "-5    530\n",
       " 1    327\n",
       "Name: Do you currently have a mental health disorder?, dtype: int64"
      ]
     },
     "execution_count": 14,
     "metadata": {
     },
     "output_type": "execute_result"
    }
   ],
   "source": [
    "df['Do you currently have a mental health disorder?'].value_counts()\n",
    "d = []\n",
    "for row in data2['Do you currently have a mental health disorder?']:\n",
    "        if (row =='Yes'):    d.append(5)\n",
    "        elif (row =='Maybe'):  d.append(1)\n",
    "        elif (row =='No'):  d.append(-5)\n",
    "data2['Do you currently have a mental health disorder?'] = d\n",
    "data2['Do you currently have a mental health disorder?'].value_counts()"
   ]
  },
  {
   "cell_type": "code",
   "execution_count": 15,
   "metadata": {
    "collapsed": false
   },
   "outputs": [
    {
     "data": {
      "text/html": [
       "<div>\n",
       "<style scoped>\n",
       "    .dataframe tbody tr th:only-of-type {\n",
       "        vertical-align: middle;\n",
       "    }\n",
       "\n",
       "    .dataframe tbody tr th {\n",
       "        vertical-align: top;\n",
       "    }\n",
       "\n",
       "    .dataframe thead th {\n",
       "        text-align: right;\n",
       "    }\n",
       "</style>\n",
       "<table border=\"1\" class=\"dataframe\">\n",
       "  <thead>\n",
       "    <tr style=\"text-align: right;\">\n",
       "      <th></th>\n",
       "      <th>Do you currently have a mental health disorder?</th>\n",
       "      <th>Have you been diagnosed with a mental health condition by a medical professional?</th>\n",
       "      <th>Have you ever sought treatment for a mental health issue from a mental health professional?</th>\n",
       "      <th>If you have a mental health issue, do you feel that it interferes with your work when being treated effectively?</th>\n",
       "      <th>If you have a mental health issue, do you feel that it interferes with your work when NOT being treated effectively?</th>\n",
       "      <th>What is your age?</th>\n",
       "      <th>Which of the following best describes your work position?</th>\n",
       "      <th>Do you work remotely?</th>\n",
       "    </tr>\n",
       "  </thead>\n",
       "  <tbody>\n",
       "    <tr>\n",
       "      <th>0</th>\n",
       "      <td>-5</td>\n",
       "      <td>5</td>\n",
       "      <td>-5</td>\n",
       "      <td>-5</td>\n",
       "      <td>-5</td>\n",
       "      <td>39</td>\n",
       "      <td>Back-end Developer</td>\n",
       "      <td>0</td>\n",
       "    </tr>\n",
       "    <tr>\n",
       "      <th>1</th>\n",
       "      <td>5</td>\n",
       "      <td>5</td>\n",
       "      <td>5</td>\n",
       "      <td>-1</td>\n",
       "      <td>3</td>\n",
       "      <td>29</td>\n",
       "      <td>Back-end Developer|Front-end Developer</td>\n",
       "      <td>-5</td>\n",
       "    </tr>\n",
       "    <tr>\n",
       "      <th>2</th>\n",
       "      <td>-5</td>\n",
       "      <td>-5</td>\n",
       "      <td>5</td>\n",
       "      <td>-5</td>\n",
       "      <td>-5</td>\n",
       "      <td>38</td>\n",
       "      <td>Back-end Developer</td>\n",
       "      <td>5</td>\n",
       "    </tr>\n",
       "    <tr>\n",
       "      <th>3</th>\n",
       "      <td>5</td>\n",
       "      <td>5</td>\n",
       "      <td>5</td>\n",
       "      <td>3</td>\n",
       "      <td>3</td>\n",
       "      <td>43</td>\n",
       "      <td>Supervisor/Team Lead</td>\n",
       "      <td>0</td>\n",
       "    </tr>\n",
       "    <tr>\n",
       "      <th>4</th>\n",
       "      <td>5</td>\n",
       "      <td>5</td>\n",
       "      <td>5</td>\n",
       "      <td>3</td>\n",
       "      <td>3</td>\n",
       "      <td>43</td>\n",
       "      <td>Executive Leadership|Supervisor/Team Lead|Dev ...</td>\n",
       "      <td>0</td>\n",
       "    </tr>\n",
       "  </tbody>\n",
       "</table>\n",
       "</div>"
      ],
      "text/plain": [
       "   Do you currently have a mental health disorder?  \\\n",
       "0                                               -5   \n",
       "1                                                5   \n",
       "2                                               -5   \n",
       "3                                                5   \n",
       "4                                                5   \n",
       "\n",
       "   Have you been diagnosed with a mental health condition by a medical professional?  \\\n",
       "0                                                  5                                   \n",
       "1                                                  5                                   \n",
       "2                                                 -5                                   \n",
       "3                                                  5                                   \n",
       "4                                                  5                                   \n",
       "\n",
       "   Have you ever sought treatment for a mental health issue from a mental health professional?  \\\n",
       "0                                                 -5                                             \n",
       "1                                                  5                                             \n",
       "2                                                  5                                             \n",
       "3                                                  5                                             \n",
       "4                                                  5                                             \n",
       "\n",
       "   If you have a mental health issue, do you feel that it interferes with your work when being treated effectively?  \\\n",
       "0                                                 -5                                                                  \n",
       "1                                                 -1                                                                  \n",
       "2                                                 -5                                                                  \n",
       "3                                                  3                                                                  \n",
       "4                                                  3                                                                  \n",
       "\n",
       "   If you have a mental health issue, do you feel that it interferes with your work when NOT being treated effectively?  \\\n",
       "0                                                 -5                                                                      \n",
       "1                                                  3                                                                      \n",
       "2                                                 -5                                                                      \n",
       "3                                                  3                                                                      \n",
       "4                                                  3                                                                      \n",
       "\n",
       "   What is your age?  \\\n",
       "0                 39   \n",
       "1                 29   \n",
       "2                 38   \n",
       "3                 43   \n",
       "4                 43   \n",
       "\n",
       "  Which of the following best describes your work position?  \\\n",
       "0                                 Back-end Developer          \n",
       "1             Back-end Developer|Front-end Developer          \n",
       "2                                 Back-end Developer          \n",
       "3                               Supervisor/Team Lead          \n",
       "4  Executive Leadership|Supervisor/Team Lead|Dev ...          \n",
       "\n",
       "   Do you work remotely?  \n",
       "0                      0  \n",
       "1                     -5  \n",
       "2                      5  \n",
       "3                      0  \n",
       "4                      0  "
      ]
     },
     "execution_count": 15,
     "metadata": {
     },
     "output_type": "execute_result"
    }
   ],
   "source": [
    "data2.head()"
   ]
  },
  {
   "cell_type": "code",
   "execution_count": 18,
   "metadata": {
    "collapsed": false
   },
   "outputs": [
    {
     "data": {
      "text/plain": [
       "264"
      ]
     },
     "execution_count": 18,
     "metadata": {
     },
     "output_type": "execute_result"
    }
   ],
   "source": [
    "data2['Which of the following best describes your work position?'].nunique()"
   ]
  },
  {
   "cell_type": "code",
   "execution_count": 19,
   "metadata": {
    "collapsed": false
   },
   "outputs": [
    {
     "data": {
      "text/plain": [
       "Do you currently have a mental health disorder?                                                                          int64\n",
       "Have you been diagnosed with a mental health condition by a medical professional?                                        int64\n",
       "Have you ever sought treatment for a mental health issue from a mental health professional?                              int64\n",
       "If you have a mental health issue, do you feel that it interferes with your work when being treated effectively?         int64\n",
       "If you have a mental health issue, do you feel that it interferes with your work when NOT being treated effectively?     int64\n",
       "What is your age?                                                                                                        int64\n",
       "Which of the following best describes your work position?                                                               object\n",
       "Do you work remotely?                                                                                                    int64\n",
       "dtype: object"
      ]
     },
     "execution_count": 19,
     "metadata": {
     },
     "output_type": "execute_result"
    }
   ],
   "source": [
    "data2.dtypes"
   ]
  },
  {
   "cell_type": "code",
   "execution_count": 21,
   "metadata": {
    "collapsed": false
   },
   "outputs": [
    {
     "data": {
      "text/plain": [
       "Back-end Developer                                                            262\n",
       "Front-end Developer                                                           125\n",
       "Other                                                                         112\n",
       "Supervisor/Team Lead                                                           68\n",
       "Back-end Developer|Front-end Developer                                         61\n",
       "                                                                             ... \n",
       "Designer|Front-end Developer|Back-end Developer|Sales|Supervisor/Team Lead      1\n",
       "Other|Dev Evangelist/Advocate|Back-end Developer|Front-end Developer            1\n",
       "Executive Leadership|Dev Evangelist/Advocate                                    1\n",
       "Support|Back-end Developer|Front-end Developer|Designer                         1\n",
       "Support|HR|Supervisor/Team Lead|Executive Leadership                            1\n",
       "Name: Which of the following best describes your work position?, Length: 264, dtype: int64"
      ]
     },
     "execution_count": 21,
     "metadata": {
     },
     "output_type": "execute_result"
    }
   ],
   "source": [
    "data2['Which of the following best describes your work position?'].value_counts()"
   ]
  },
  {
   "cell_type": "code",
   "execution_count": 22,
   "metadata": {
    "collapsed": false
   },
   "outputs": [
   ],
   "source": [
    "data2.to_csv(\"Data2.csv\")"
   ]
  },
  {
   "cell_type": "code",
   "execution_count": 0,
   "metadata": {
    "collapsed": false
   },
   "outputs": [
   ],
   "source": [
   ]
  }
 ],
 "metadata": {
  "kernelspec": {
   "display_name": "Python 3 (system-wide)",
   "language": "python",
   "metadata": {
    "cocalc": {
     "description": "Python 3 programming language",
     "priority": 100,
     "url": "https://www.python.org/"
    }
   },
   "name": "python3"
  },
  "language_info": {
   "codemirror_mode": {
    "name": "ipython",
    "version": 3
   },
   "file_extension": ".py",
   "mimetype": "text/x-python",
   "name": "python",
   "nbconvert_exporter": "python",
   "pygments_lexer": "ipython3",
   "version": "3.6.9"
  }
 },
 "nbformat": 4,
 "nbformat_minor": 4
}