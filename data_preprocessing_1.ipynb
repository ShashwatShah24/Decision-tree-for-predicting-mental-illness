{
 "cells": [
  {
   "cell_type": "code",
   "execution_count": 5,
   "metadata": {
    "collapsed": false
   },
   "outputs": [
   ],
   "source": [
    "import pandas as pd\n",
    "import numpy as np"
   ]
  },
  {
   "cell_type": "code",
   "execution_count": 7,
   "metadata": {
    "collapsed": false
   },
   "outputs": [
   ],
   "source": [
    "df=pd.read_csv('df.csv')"
   ]
  },
  {
   "cell_type": "code",
   "execution_count": 8,
   "metadata": {
    "collapsed": false
   },
   "outputs": [
    {
     "data": {
      "text/html": [
       "<div>\n",
       "<style scoped>\n",
       "    .dataframe tbody tr th:only-of-type {\n",
       "        vertical-align: middle;\n",
       "    }\n",
       "\n",
       "    .dataframe tbody tr th {\n",
       "        vertical-align: top;\n",
       "    }\n",
       "\n",
       "    .dataframe thead th {\n",
       "        text-align: right;\n",
       "    }\n",
       "</style>\n",
       "<table border=\"1\" class=\"dataframe\">\n",
       "  <thead>\n",
       "    <tr style=\"text-align: right;\">\n",
       "      <th></th>\n",
       "      <th>Are you self-employed?</th>\n",
       "      <th>How many employees does your company or organization have?</th>\n",
       "      <th>Is your employer primarily a tech company/organization?</th>\n",
       "      <th>Is your primary role within your company related to tech/IT?</th>\n",
       "      <th>Does your employer provide mental health benefits as part of healthcare coverage?</th>\n",
       "      <th>Do you know the options for mental health care available under your employer-provided coverage?</th>\n",
       "      <th>Has your employer ever formally discussed mental health (for example, as part of a wellness campaign or other official communication)?</th>\n",
       "      <th>Does your employer offer resources to learn more about mental health concerns and options for seeking help?</th>\n",
       "      <th>Is your anonymity protected if you choose to take advantage of mental health or substance abuse treatment resources provided by your employer?</th>\n",
       "      <th>If a mental health issue prompted you to request a medical leave from work, asking for that leave would be:</th>\n",
       "      <th>...</th>\n",
       "      <th>If you have a mental health issue, do you feel that it interferes with your work when being treated effectively?</th>\n",
       "      <th>If you have a mental health issue, do you feel that it interferes with your work when NOT being treated effectively?</th>\n",
       "      <th>What is your age?</th>\n",
       "      <th>What is your gender?</th>\n",
       "      <th>What country do you live in?</th>\n",
       "      <th>What US state or territory do you live in?</th>\n",
       "      <th>What country do you work in?</th>\n",
       "      <th>What US state or territory do you work in?</th>\n",
       "      <th>Which of the following best describes your work position?</th>\n",
       "      <th>Do you work remotely?</th>\n",
       "    </tr>\n",
       "  </thead>\n",
       "  <tbody>\n",
       "    <tr>\n",
       "      <th>0</th>\n",
       "      <td>0</td>\n",
       "      <td>26-100</td>\n",
       "      <td>1.0</td>\n",
       "      <td>NaN</td>\n",
       "      <td>Not eligible for coverage / N/A</td>\n",
       "      <td>NaN</td>\n",
       "      <td>No</td>\n",
       "      <td>No</td>\n",
       "      <td>I don't know</td>\n",
       "      <td>Very easy</td>\n",
       "      <td>...</td>\n",
       "      <td>Not applicable to me</td>\n",
       "      <td>Not applicable to me</td>\n",
       "      <td>39</td>\n",
       "      <td>Male</td>\n",
       "      <td>United Kingdom</td>\n",
       "      <td>NaN</td>\n",
       "      <td>United Kingdom</td>\n",
       "      <td>NaN</td>\n",
       "      <td>Back-end Developer</td>\n",
       "      <td>Sometimes</td>\n",
       "    </tr>\n",
       "    <tr>\n",
       "      <th>1</th>\n",
       "      <td>0</td>\n",
       "      <td>25-Jun</td>\n",
       "      <td>1.0</td>\n",
       "      <td>NaN</td>\n",
       "      <td>No</td>\n",
       "      <td>Yes</td>\n",
       "      <td>Yes</td>\n",
       "      <td>Yes</td>\n",
       "      <td>Yes</td>\n",
       "      <td>Somewhat easy</td>\n",
       "      <td>...</td>\n",
       "      <td>Rarely</td>\n",
       "      <td>Sometimes</td>\n",
       "      <td>29</td>\n",
       "      <td>male</td>\n",
       "      <td>United States of America</td>\n",
       "      <td>Illinois</td>\n",
       "      <td>United States of America</td>\n",
       "      <td>Illinois</td>\n",
       "      <td>Back-end Developer|Front-end Developer</td>\n",
       "      <td>Never</td>\n",
       "    </tr>\n",
       "    <tr>\n",
       "      <th>2</th>\n",
       "      <td>0</td>\n",
       "      <td>25-Jun</td>\n",
       "      <td>1.0</td>\n",
       "      <td>NaN</td>\n",
       "      <td>No</td>\n",
       "      <td>NaN</td>\n",
       "      <td>No</td>\n",
       "      <td>No</td>\n",
       "      <td>I don't know</td>\n",
       "      <td>Neither easy nor difficult</td>\n",
       "      <td>...</td>\n",
       "      <td>Not applicable to me</td>\n",
       "      <td>Not applicable to me</td>\n",
       "      <td>38</td>\n",
       "      <td>Male</td>\n",
       "      <td>United Kingdom</td>\n",
       "      <td>NaN</td>\n",
       "      <td>United Kingdom</td>\n",
       "      <td>NaN</td>\n",
       "      <td>Back-end Developer</td>\n",
       "      <td>Always</td>\n",
       "    </tr>\n",
       "    <tr>\n",
       "      <th>3</th>\n",
       "      <td>1</td>\n",
       "      <td>NaN</td>\n",
       "      <td>NaN</td>\n",
       "      <td>NaN</td>\n",
       "      <td>NaN</td>\n",
       "      <td>NaN</td>\n",
       "      <td>NaN</td>\n",
       "      <td>NaN</td>\n",
       "      <td>NaN</td>\n",
       "      <td>NaN</td>\n",
       "      <td>...</td>\n",
       "      <td>Sometimes</td>\n",
       "      <td>Sometimes</td>\n",
       "      <td>43</td>\n",
       "      <td>male</td>\n",
       "      <td>United Kingdom</td>\n",
       "      <td>NaN</td>\n",
       "      <td>United Kingdom</td>\n",
       "      <td>NaN</td>\n",
       "      <td>Supervisor/Team Lead</td>\n",
       "      <td>Sometimes</td>\n",
       "    </tr>\n",
       "    <tr>\n",
       "      <th>4</th>\n",
       "      <td>0</td>\n",
       "      <td>25-Jun</td>\n",
       "      <td>0.0</td>\n",
       "      <td>1.0</td>\n",
       "      <td>Yes</td>\n",
       "      <td>Yes</td>\n",
       "      <td>No</td>\n",
       "      <td>No</td>\n",
       "      <td>No</td>\n",
       "      <td>Neither easy nor difficult</td>\n",
       "      <td>...</td>\n",
       "      <td>Sometimes</td>\n",
       "      <td>Sometimes</td>\n",
       "      <td>43</td>\n",
       "      <td>Female</td>\n",
       "      <td>United States of America</td>\n",
       "      <td>Illinois</td>\n",
       "      <td>United States of America</td>\n",
       "      <td>Illinois</td>\n",
       "      <td>Executive Leadership|Supervisor/Team Lead|Dev ...</td>\n",
       "      <td>Sometimes</td>\n",
       "    </tr>\n",
       "  </tbody>\n",
       "</table>\n",
       "<p>5 rows × 63 columns</p>\n",
       "</div>"
      ],
      "text/plain": [
       "   Are you self-employed?  \\\n",
       "0                       0   \n",
       "1                       0   \n",
       "2                       0   \n",
       "3                       1   \n",
       "4                       0   \n",
       "\n",
       "  How many employees does your company or organization have?  \\\n",
       "0                                             26-100           \n",
       "1                                             25-Jun           \n",
       "2                                             25-Jun           \n",
       "3                                                NaN           \n",
       "4                                             25-Jun           \n",
       "\n",
       "   Is your employer primarily a tech company/organization?  \\\n",
       "0                                                1.0         \n",
       "1                                                1.0         \n",
       "2                                                1.0         \n",
       "3                                                NaN         \n",
       "4                                                0.0         \n",
       "\n",
       "   Is your primary role within your company related to tech/IT?  \\\n",
       "0                                                NaN              \n",
       "1                                                NaN              \n",
       "2                                                NaN              \n",
       "3                                                NaN              \n",
       "4                                                1.0              \n",
       "\n",
       "  Does your employer provide mental health benefits as part of healthcare coverage?  \\\n",
       "0                    Not eligible for coverage / N/A                                  \n",
       "1                                                 No                                  \n",
       "2                                                 No                                  \n",
       "3                                                NaN                                  \n",
       "4                                                Yes                                  \n",
       "\n",
       "  Do you know the options for mental health care available under your employer-provided coverage?  \\\n",
       "0                                                NaN                                                \n",
       "1                                                Yes                                                \n",
       "2                                                NaN                                                \n",
       "3                                                NaN                                                \n",
       "4                                                Yes                                                \n",
       "\n",
       "  Has your employer ever formally discussed mental health (for example, as part of a wellness campaign or other official communication)?  \\\n",
       "0                                                 No                                                                                       \n",
       "1                                                Yes                                                                                       \n",
       "2                                                 No                                                                                       \n",
       "3                                                NaN                                                                                       \n",
       "4                                                 No                                                                                       \n",
       "\n",
       "  Does your employer offer resources to learn more about mental health concerns and options for seeking help?  \\\n",
       "0                                                 No                                                            \n",
       "1                                                Yes                                                            \n",
       "2                                                 No                                                            \n",
       "3                                                NaN                                                            \n",
       "4                                                 No                                                            \n",
       "\n",
       "  Is your anonymity protected if you choose to take advantage of mental health or substance abuse treatment resources provided by your employer?  \\\n",
       "0                                       I don't know                                                                                               \n",
       "1                                                Yes                                                                                               \n",
       "2                                       I don't know                                                                                               \n",
       "3                                                NaN                                                                                               \n",
       "4                                                 No                                                                                               \n",
       "\n",
       "  If a mental health issue prompted you to request a medical leave from work, asking for that leave would be:  \\\n",
       "0                                          Very easy                                                            \n",
       "1                                      Somewhat easy                                                            \n",
       "2                         Neither easy nor difficult                                                            \n",
       "3                                                NaN                                                            \n",
       "4                         Neither easy nor difficult                                                            \n",
       "\n",
       "   ...  \\\n",
       "0  ...   \n",
       "1  ...   \n",
       "2  ...   \n",
       "3  ...   \n",
       "4  ...   \n",
       "\n",
       "  If you have a mental health issue, do you feel that it interferes with your work when being treated effectively?  \\\n",
       "0                               Not applicable to me                                                                 \n",
       "1                                             Rarely                                                                 \n",
       "2                               Not applicable to me                                                                 \n",
       "3                                          Sometimes                                                                 \n",
       "4                                          Sometimes                                                                 \n",
       "\n",
       "  If you have a mental health issue, do you feel that it interferes with your work when NOT being treated effectively?  \\\n",
       "0                               Not applicable to me                                                                     \n",
       "1                                          Sometimes                                                                     \n",
       "2                               Not applicable to me                                                                     \n",
       "3                                          Sometimes                                                                     \n",
       "4                                          Sometimes                                                                     \n",
       "\n",
       "  What is your age? What is your gender? What country do you live in?  \\\n",
       "0                39                 Male               United Kingdom   \n",
       "1                29                 male     United States of America   \n",
       "2                38                Male                United Kingdom   \n",
       "3                43                 male               United Kingdom   \n",
       "4                43               Female     United States of America   \n",
       "\n",
       "  What US state or territory do you live in?  What country do you work in?  \\\n",
       "0                                        NaN                United Kingdom   \n",
       "1                                   Illinois      United States of America   \n",
       "2                                        NaN                United Kingdom   \n",
       "3                                        NaN                United Kingdom   \n",
       "4                                   Illinois      United States of America   \n",
       "\n",
       "  What US state or territory do you work in?  \\\n",
       "0                                        NaN   \n",
       "1                                   Illinois   \n",
       "2                                        NaN   \n",
       "3                                        NaN   \n",
       "4                                   Illinois   \n",
       "\n",
       "  Which of the following best describes your work position?  \\\n",
       "0                                 Back-end Developer          \n",
       "1             Back-end Developer|Front-end Developer          \n",
       "2                                 Back-end Developer          \n",
       "3                               Supervisor/Team Lead          \n",
       "4  Executive Leadership|Supervisor/Team Lead|Dev ...          \n",
       "\n",
       "  Do you work remotely?  \n",
       "0             Sometimes  \n",
       "1                 Never  \n",
       "2                Always  \n",
       "3             Sometimes  \n",
       "4             Sometimes  \n",
       "\n",
       "[5 rows x 63 columns]"
      ]
     },
     "execution_count": 8,
     "metadata": {
     },
     "output_type": "execute_result"
    }
   ],
   "source": [
    "df.head()"
   ]
  },
  {
   "cell_type": "code",
   "execution_count": 9,
   "metadata": {
    "collapsed": false
   },
   "outputs": [
    {
     "data": {
      "text/plain": [
       "(1433, 63)"
      ]
     },
     "execution_count": 9,
     "metadata": {
     },
     "output_type": "execute_result"
    }
   ],
   "source": [
    "df.shape"
   ]
  },
  {
   "cell_type": "code",
   "execution_count": 10,
   "metadata": {
    "collapsed": false
   },
   "outputs": [
   ],
   "source": [
    "df1 = df.dropna(axis = 1)"
   ]
  },
  {
   "cell_type": "code",
   "execution_count": 12,
   "metadata": {
    "collapsed": false
   },
   "outputs": [
    {
     "data": {
      "text/plain": [
       "(1433, 19)"
      ]
     },
     "execution_count": 12,
     "metadata": {
     },
     "output_type": "execute_result"
    }
   ],
   "source": [
    "df1.shape"
   ]
  },
  {
   "cell_type": "code",
   "execution_count": 13,
   "metadata": {
    "collapsed": true
   },
   "outputs": [
    {
     "data": {
      "text/plain": [
       "Index(['Are you self-employed?',\n",
       "       'How many employees does your company or organization have?',\n",
       "       'Is your employer primarily a tech company/organization?',\n",
       "       'Is your primary role within your company related to tech/IT?',\n",
       "       'Does your employer provide mental health benefits as part of healthcare coverage?',\n",
       "       'Do you know the options for mental health care available under your employer-provided coverage?',\n",
       "       'Has your employer ever formally discussed mental health (for example, as part of a wellness campaign or other official communication)?',\n",
       "       'Does your employer offer resources to learn more about mental health concerns and options for seeking help?',\n",
       "       'Is your anonymity protected if you choose to take advantage of mental health or substance abuse treatment resources provided by your employer?',\n",
       "       'If a mental health issue prompted you to request a medical leave from work, asking for that leave would be:',\n",
       "       'Do you think that discussing a mental health disorder with your employer would have negative consequences?',\n",
       "       'Do you think that discussing a physical health issue with your employer would have negative consequences?',\n",
       "       'Would you feel comfortable discussing a mental health disorder with your coworkers?',\n",
       "       'Would you feel comfortable discussing a mental health disorder with your direct supervisor(s)?',\n",
       "       'Do you feel that your employer takes mental health as seriously as physical health?',\n",
       "       'Have you heard of or observed negative consequences for co-workers who have been open about mental health issues in your workplace?',\n",
       "       'Do you have medical coverage (private insurance or state-provided) which includes treatment of  mental health issues?',\n",
       "       'Do you know local or online resources to seek help for a mental health disorder?',\n",
       "       'If you have been diagnosed or treated for a mental health disorder, do you ever reveal this to clients or business contacts?',\n",
       "       'If you have revealed a mental health issue to a client or business contact, do you believe this has impacted you negatively?',\n",
       "       'If you have been diagnosed or treated for a mental health disorder, do you ever reveal this to coworkers or employees?',\n",
       "       'If you have revealed a mental health issue to a coworker or employee, do you believe this has impacted you negatively?',\n",
       "       'Do you believe your productivity is ever affected by a mental health issue?',\n",
       "       'If yes, what percentage of your work time (time performing primary or secondary job functions) is affected by a mental health issue?',\n",
       "       'Do you have previous employers?',\n",
       "       'Have your previous employers provided mental health benefits?',\n",
       "       'Were you aware of the options for mental health care provided by your previous employers?',\n",
       "       'Did your previous employers ever formally discuss mental health (as part of a wellness campaign or other official communication)?',\n",
       "       'Did your previous employers provide resources to learn more about mental health issues and how to seek help?',\n",
       "       'Was your anonymity protected if you chose to take advantage of mental health or substance abuse treatment resources with previous employers?',\n",
       "       'Do you think that discussing a mental health disorder with previous employers would have negative consequences?',\n",
       "       'Do you think that discussing a physical health issue with previous employers would have negative consequences?',\n",
       "       'Would you have been willing to discuss a mental health issue with your previous co-workers?',\n",
       "       'Would you have been willing to discuss a mental health issue with your direct supervisor(s)?',\n",
       "       'Did you feel that your previous employers took mental health as seriously as physical health?',\n",
       "       'Did you hear of or observe negative consequences for co-workers with mental health issues in your previous workplaces?',\n",
       "       'Would you be willing to bring up a physical health issue with a potential employer in an interview?',\n",
       "       'Why or why not?',\n",
       "       'Would you bring up a mental health issue with a potential employer in an interview?',\n",
       "       'Why or why not?.1',\n",
       "       'Do you feel that being identified as a person with a mental health issue would hurt your career?',\n",
       "       'Do you think that team members/co-workers would view you more negatively if they knew you suffered from a mental health issue?',\n",
       "       'How willing would you be to share with friends and family that you have a mental illness?',\n",
       "       'Have you observed or experienced an unsupportive or badly handled response to a mental health issue in your current or previous workplace?',\n",
       "       'Have your observations of how another individual who discussed a mental health disorder made you less likely to reveal a mental health issue yourself in your current workplace?',\n",
       "       'Do you have a family history of mental illness?',\n",
       "       'Have you had a mental health disorder in the past?',\n",
       "       'Do you currently have a mental health disorder?',\n",
       "       'If yes, what condition(s) have you been diagnosed with?',\n",
       "       'If maybe, what condition(s) do you believe you have?',\n",
       "       'Have you been diagnosed with a mental health condition by a medical professional?',\n",
       "       'If so, what condition(s) were you diagnosed with?',\n",
       "       'Have you ever sought treatment for a mental health issue from a mental health professional?',\n",
       "       'If you have a mental health issue, do you feel that it interferes with your work when being treated effectively?',\n",
       "       'If you have a mental health issue, do you feel that it interferes with your work when NOT being treated effectively?',\n",
       "       'What is your age?', 'What is your gender?',\n",
       "       'What country do you live in?',\n",
       "       'What US state or territory do you live in?',\n",
       "       'What country do you work in?',\n",
       "       'What US state or territory do you work in?',\n",
       "       'Which of the following best describes your work position?',\n",
       "       'Do you work remotely?'],\n",
       "      dtype='object')"
      ]
     },
     "execution_count": 13,
     "metadata": {
     },
     "output_type": "execute_result"
    }
   ],
   "source": [
    "df.columns"
   ]
  },
  {
   "cell_type": "code",
   "execution_count": 14,
   "metadata": {
    "collapsed": true
   },
   "outputs": [
    {
     "data": {
      "text/plain": [
       "Index(['Are you self-employed?', 'Do you have previous employers?',\n",
       "       'Would you be willing to bring up a physical health issue with a potential employer in an interview?',\n",
       "       'Would you bring up a mental health issue with a potential employer in an interview?',\n",
       "       'Do you feel that being identified as a person with a mental health issue would hurt your career?',\n",
       "       'Do you think that team members/co-workers would view you more negatively if they knew you suffered from a mental health issue?',\n",
       "       'How willing would you be to share with friends and family that you have a mental illness?',\n",
       "       'Do you have a family history of mental illness?',\n",
       "       'Have you had a mental health disorder in the past?',\n",
       "       'Do you currently have a mental health disorder?',\n",
       "       'Have you been diagnosed with a mental health condition by a medical professional?',\n",
       "       'Have you ever sought treatment for a mental health issue from a mental health professional?',\n",
       "       'If you have a mental health issue, do you feel that it interferes with your work when being treated effectively?',\n",
       "       'If you have a mental health issue, do you feel that it interferes with your work when NOT being treated effectively?',\n",
       "       'What is your age?', 'What country do you live in?',\n",
       "       'What country do you work in?',\n",
       "       'Which of the following best describes your work position?',\n",
       "       'Do you work remotely?'],\n",
       "      dtype='object')"
      ]
     },
     "execution_count": 14,
     "metadata": {
     },
     "output_type": "execute_result"
    }
   ],
   "source": [
    "df1.columns"
   ]
  },
  {
   "cell_type": "code",
   "execution_count": 19,
   "metadata": {
    "collapsed": false
   },
   "outputs": [
    {
     "data": {
      "text/plain": [
       "Yes      575\n",
       "No       531\n",
       "Maybe    327\n",
       "Name: Do you currently have a mental health disorder?, dtype: int64"
      ]
     },
     "execution_count": 19,
     "metadata": {
     },
     "output_type": "execute_result"
    }
   ],
   "source": [
    "df1['Do you currently have a mental health disorder?'].value_counts()"
   ]
  },
  {
   "cell_type": "code",
   "execution_count": 21,
   "metadata": {
    "collapsed": true,
    "scrolled": true
   },
   "outputs": [
    {
     "data": {
      "text/plain": [
       "United States of America    840\n",
       "United Kingdom              180\n",
       "Canada                       78\n",
       "Germany                      58\n",
       "Netherlands                  48\n",
       "Australia                    35\n",
       "Sweden                       19\n",
       "France                       16\n",
       "Ireland                      15\n",
       "Switzerland                  10\n",
       "Brazil                       10\n",
       "India                         9\n",
       "Russia                        9\n",
       "New Zealand                   9\n",
       "Denmark                       7\n",
       "Bulgaria                      7\n",
       "Finland                       7\n",
       "Italy                         5\n",
       "Belgium                       5\n",
       "Poland                        4\n",
       "South Africa                  4\n",
       "Spain                         4\n",
       "Austria                       4\n",
       "Romania                       4\n",
       "Chile                         3\n",
       "Pakistan                      3\n",
       "Norway                        3\n",
       "Czech Republic                3\n",
       "Lithuania                     2\n",
       "Japan                         2\n",
       "Other                         2\n",
       "Afghanistan                   2\n",
       "Estonia                       2\n",
       "Mexico                        2\n",
       "Bosnia and Herzegovina        2\n",
       "Colombia                      2\n",
       "Israel                        2\n",
       "Bangladesh                    1\n",
       "Iran                          1\n",
       "Greece                        1\n",
       "Venezuela                     1\n",
       "Brunei                        1\n",
       "Taiwan                        1\n",
       "China                         1\n",
       "Serbia                        1\n",
       "Argentina                     1\n",
       "Vietnam                       1\n",
       "Ecuador                       1\n",
       "Slovakia                      1\n",
       "Algeria                       1\n",
       "Hungary                       1\n",
       "Guatemala                     1\n",
       "Costa Rica                    1\n",
       "Name: What country do you live in?, dtype: int64"
      ]
     },
     "execution_count": 21,
     "metadata": {
     },
     "output_type": "execute_result"
    }
   ],
   "source": [
    "df['What country do you live in?'].value_counts()"
   ]
  },
  {
   "cell_type": "code",
   "execution_count": 25,
   "metadata": {
    "collapsed": false
   },
   "outputs": [
   ],
   "source": [
    "df1 = df1.drop(['What country do you live in?','What country do you work in?'],axis = 1)"
   ]
  },
  {
   "cell_type": "code",
   "execution_count": 27,
   "metadata": {
    "collapsed": false
   },
   "outputs": [
    {
     "data": {
      "text/plain": [
       "(1433, 17)"
      ]
     },
     "execution_count": 27,
     "metadata": {
     },
     "output_type": "execute_result"
    }
   ],
   "source": [
    "df1.shape"
   ]
  },
  {
   "cell_type": "code",
   "execution_count": 28,
   "metadata": {
    "collapsed": true
   },
   "outputs": [
    {
     "data": {
      "text/plain": [
       "30     94\n",
       "31     82\n",
       "29     79\n",
       "28     74\n",
       "35     74\n",
       "32     72\n",
       "34     69\n",
       "33     69\n",
       "26     64\n",
       "27     63\n",
       "37     59\n",
       "39     55\n",
       "38     54\n",
       "36     50\n",
       "25     44\n",
       "24     42\n",
       "40     36\n",
       "22     32\n",
       "44     31\n",
       "43     30\n",
       "42     29\n",
       "45     27\n",
       "23     24\n",
       "41     24\n",
       "46     22\n",
       "21     15\n",
       "47     14\n",
       "49     13\n",
       "55     12\n",
       "48      9\n",
       "50      9\n",
       "54      7\n",
       "51      7\n",
       "52      7\n",
       "20      6\n",
       "56      5\n",
       "57      4\n",
       "63      4\n",
       "19      4\n",
       "53      3\n",
       "61      2\n",
       "59      2\n",
       "17      1\n",
       "15      1\n",
       "323     1\n",
       "99      1\n",
       "58      1\n",
       "62      1\n",
       "65      1\n",
       "66      1\n",
       "70      1\n",
       "74      1\n",
       "3       1\n",
       "Name: What is your age?, dtype: int64"
      ]
     },
     "execution_count": 28,
     "metadata": {
     },
     "output_type": "execute_result"
    }
   ],
   "source": [
    "df['What is your age?'].value_counts()"
   ]
  },
  {
   "cell_type": "code",
   "execution_count": 34,
   "metadata": {
    "collapsed": false
   },
   "outputs": [
    {
     "data": {
      "text/plain": [
       "0       Maybe\n",
       "1       Maybe\n",
       "2         Yes\n",
       "3         Yes\n",
       "4       Maybe\n",
       "        ...  \n",
       "1428       No\n",
       "1429    Maybe\n",
       "1430    Maybe\n",
       "1431    Maybe\n",
       "1432    Maybe\n",
       "Name: Would you be willing to bring up a physical health issue with a potential employer in an interview?, Length: 1433, dtype: object"
      ]
     },
     "execution_count": 34,
     "metadata": {
     },
     "output_type": "execute_result"
    }
   ],
   "source": [
    "df['Would you be willing to bring up a physical health issue with a potential employer in an interview?'].value_c"
   ]
  },
  {
   "cell_type": "code",
   "execution_count": 0,
   "metadata": {
    "collapsed": false
   },
   "outputs": [
   ],
   "source": [
   ]
  },
  {
   "cell_type": "code",
   "execution_count": 29,
   "metadata": {
    "collapsed": false
   },
   "outputs": [
   ],
   "source": [
    "dftest = df1[df1['What is your age?']!=323]"
   ]
  },
  {
   "cell_type": "code",
   "execution_count": 30,
   "metadata": {
    "collapsed": false
   },
   "outputs": [
    {
     "data": {
      "text/plain": [
       "(1432, 17)"
      ]
     },
     "execution_count": 30,
     "metadata": {
     },
     "output_type": "execute_result"
    }
   ],
   "source": [
    "dftest.shape"
   ]
  },
  {
   "cell_type": "code",
   "execution_count": 32,
   "metadata": {
    "collapsed": false
   },
   "outputs": [
    {
     "data": {
      "text/plain": [
       "30    94\n",
       "31    82\n",
       "29    79\n",
       "28    74\n",
       "35    74\n",
       "32    72\n",
       "33    69\n",
       "34    69\n",
       "26    64\n",
       "27    63\n",
       "37    59\n",
       "39    55\n",
       "38    54\n",
       "36    50\n",
       "25    44\n",
       "24    42\n",
       "40    36\n",
       "22    32\n",
       "44    31\n",
       "43    30\n",
       "42    29\n",
       "45    27\n",
       "23    24\n",
       "41    24\n",
       "46    22\n",
       "21    15\n",
       "47    14\n",
       "49    13\n",
       "55    12\n",
       "50     9\n",
       "48     9\n",
       "51     7\n",
       "52     7\n",
       "54     7\n",
       "20     6\n",
       "56     5\n",
       "63     4\n",
       "19     4\n",
       "57     4\n",
       "53     3\n",
       "59     2\n",
       "61     2\n",
       "17     1\n",
       "15     1\n",
       "99     1\n",
       "74     1\n",
       "58     1\n",
       "62     1\n",
       "65     1\n",
       "66     1\n",
       "70     1\n",
       "3      1\n",
       "Name: What is your age?, dtype: int64"
      ]
     },
     "execution_count": 32,
     "metadata": {
     },
     "output_type": "execute_result"
    }
   ],
   "source": [
    "dftest['What is your age?'].value_counts()"
   ]
  },
  {
   "cell_type": "code",
   "execution_count": 33,
   "metadata": {
    "collapsed": false
   },
   "outputs": [
   ],
   "source": [
    "data = dftest"
   ]
  },
  {
   "cell_type": "code",
   "execution_count": 37,
   "metadata": {
    "collapsed": false
   },
   "outputs": [
   ],
   "source": [
    "data.to_csv('data.csv',index=\"false\")"
   ]
  },
  {
   "cell_type": "code",
   "execution_count": 36,
   "metadata": {
    "collapsed": false
   },
   "outputs": [
    {
     "data": {
      "text/plain": [
       "Index(['Are you self-employed?', 'Do you have previous employers?',\n",
       "       'Would you be willing to bring up a physical health issue with a potential employer in an interview?',\n",
       "       'Would you bring up a mental health issue with a potential employer in an interview?',\n",
       "       'Do you feel that being identified as a person with a mental health issue would hurt your career?',\n",
       "       'Do you think that team members/co-workers would view you more negatively if they knew you suffered from a mental health issue?',\n",
       "       'How willing would you be to share with friends and family that you have a mental illness?',\n",
       "       'Do you have a family history of mental illness?',\n",
       "       'Have you had a mental health disorder in the past?',\n",
       "       'Do you currently have a mental health disorder?',\n",
       "       'Have you been diagnosed with a mental health condition by a medical professional?',\n",
       "       'Have you ever sought treatment for a mental health issue from a mental health professional?',\n",
       "       'If you have a mental health issue, do you feel that it interferes with your work when being treated effectively?',\n",
       "       'If you have a mental health issue, do you feel that it interferes with your work when NOT being treated effectively?',\n",
       "       'What is your age?',\n",
       "       'Which of the following best describes your work position?',\n",
       "       'Do you work remotely?'],\n",
       "      dtype='object')"
      ]
     },
     "execution_count": 36,
     "metadata": {
     },
     "output_type": "execute_result"
    }
   ],
   "source": [
    "data.columns"
   ]
  },
  {
   "cell_type": "code",
   "execution_count": 0,
   "metadata": {
    "collapsed": false
   },
   "outputs": [
   ],
   "source": [
   ]
  },
  {
   "cell_type": "code",
   "execution_count": 0,
   "metadata": {
    "collapsed": false
   },
   "outputs": [
   ],
   "source": [
    "\n",
    "\n",
    "\n"
   ]
  },
  {
   "cell_type": "code",
   "execution_count": 0,
   "metadata": {
    "collapsed": false
   },
   "outputs": [
   ],
   "source": [
   ]
  },
  {
   "cell_type": "code",
   "execution_count": 0,
   "metadata": {
    "collapsed": false
   },
   "outputs": [
   ],
   "source": [
   ]
  },
  {
   "cell_type": "code",
   "execution_count": 0,
   "metadata": {
    "collapsed": false
   },
   "outputs": [
   ],
   "source": [
   ]
  },
  {
   "cell_type": "code",
   "execution_count": 0,
   "metadata": {
    "collapsed": false
   },
   "outputs": [
   ],
   "source": [
   ]
  },
  {
   "cell_type": "code",
   "execution_count": 0,
   "metadata": {
    "collapsed": false
   },
   "outputs": [
   ],
   "source": [
   ]
  },
  {
   "cell_type": "code",
   "execution_count": 0,
   "metadata": {
    "collapsed": false
   },
   "outputs": [
   ],
   "source": [
   ]
  },
  {
   "cell_type": "code",
   "execution_count": 0,
   "metadata": {
    "collapsed": false
   },
   "outputs": [
   ],
   "source": [
   ]
  },
  {
   "cell_type": "code",
   "execution_count": 0,
   "metadata": {
    "collapsed": false
   },
   "outputs": [
   ],
   "source": [
   ]
  },
  {
   "cell_type": "code",
   "execution_count": 0,
   "metadata": {
    "collapsed": false
   },
   "outputs": [
   ],
   "source": [
   ]
  },
  {
   "cell_type": "code",
   "execution_count": 0,
   "metadata": {
    "collapsed": false
   },
   "outputs": [
   ],
   "source": [
   ]
  },
  {
   "cell_type": "code",
   "execution_count": 0,
   "metadata": {
    "collapsed": false
   },
   "outputs": [
   ],
   "source": [
   ]
  },
  {
   "cell_type": "code",
   "execution_count": 0,
   "metadata": {
    "collapsed": false
   },
   "outputs": [
   ],
   "source": [
   ]
  },
  {
   "cell_type": "code",
   "execution_count": 0,
   "metadata": {
    "collapsed": false
   },
   "outputs": [
   ],
   "source": [
   ]
  },
  {
   "cell_type": "code",
   "execution_count": 0,
   "metadata": {
    "collapsed": false
   },
   "outputs": [
   ],
   "source": [
   ]
  },
  {
   "cell_type": "code",
   "execution_count": 0,
   "metadata": {
    "collapsed": false
   },
   "outputs": [
   ],
   "source": [
   ]
  }
 ],
 "metadata": {
  "kernelspec": {
   "display_name": "Python 3 (system-wide)",
   "language": "python",
   "metadata": {
    "cocalc": {
     "description": "Python 3 programming language",
     "priority": 100,
     "url": "https://www.python.org/"
    }
   },
   "name": "python3"
  },
  "language_info": {
   "codemirror_mode": {
    "name": "ipython",
    "version": 3
   },
   "file_extension": ".py",
   "mimetype": "text/x-python",
   "name": "python",
   "nbconvert_exporter": "python",
   "pygments_lexer": "ipython3",
   "version": "3.6.9"
  }
 },
 "nbformat": 4,
 "nbformat_minor": 4
}